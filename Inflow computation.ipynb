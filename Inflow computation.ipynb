{
 "cells": [
  {
   "cell_type": "code",
   "execution_count": null,
   "metadata": {},
   "outputs": [],
   "source": [
    "import os\n",
    "import pandas as pd\n",
    "import numpy as np\n",
    "import math\n",
    "import scipy as sp\n",
    "import scipy.signal as sg\n",
    "import scipy.fftpack\n",
    "cwd=\"/Users/ashashibu/Desktop/WaterYears\" #Directory\n",
    "os.chdir(cwd)\n",
    "df=pd.read_excel('2004.xlsx')\n",
    "df['Date'] = pd.to_datetime(df['Date'], errors='coerce')\n",
    "df['DATE']= df['Date']\n",
    "df = df.set_index('Date')\n",
    "df=df.loc[df.index.notnull()]\n",
    "df = df.sort_index()\n",
    "\n",
    "#Headwater Smoothing Technique\n",
    "df.HeadWater=df.HeadWater.where(df.HeadWater.between(960,1034)) #Setting min and max elevation levels\n",
    "df['HeadWater'] = df['HeadWater'].interpolate(method='linear', axis=0).bfill() #replacing 0 values of headwater\n",
    "df=df.dropna(axis=0, how='any', thresh=None, subset=None, inplace=False)\n",
    "HW=df['HeadWater']\n",
    "date = df.index\n",
    "b, a = sg.butter(2, 1/300) #Second order butterworth filter\n",
    "df['HeadWater']=sg.filtfilt(b, a, HW)\n",
    "\n",
    "#Computing storage change and caluculating initial inflow\n",
    "df['Reservoir Volume']=(5772603.82*(df['HeadWater']*df['HeadWater']))-(10401155398.61*df['HeadWater'])+469216158531776\n",
    "df['Change in Storage'] = df['Reservoir Volume'].diff()\n",
    "df['Inflow(C)']=(df['Change in Storage']/300)+df['PlantTotalFlow']\n",
    "df=df.dropna(axis=0, how='any', thresh=None, subset=None, inplace=False)\n",
    "\n",
    "#Replacing negative inflow terms and adjusting with water years\n",
    "Pos= df[df['Inflow(C)'] > 0] #Positive Inflows\n",
    "Neg= df[df['Inflow(C)']< 0]  #Negative Inflows\n",
    "R=(abs(Neg['Inflow(C)'].sum()))/(Pos['Inflow(C)'].sum()) \n",
    "df[df['Inflow(C)']<0]=0\n",
    "df['Inflow']=df['Inflow(C)']-(df['Inflow(C)']*R)\n",
    "df.drop('Inflow(C)', axis=1, inplace=True)\n",
    "df.reset_index(drop=False, inplace=False)\n",
    "df = df.loc[df['HeadWater'] != 0]\n",
    "df.to_csv('2004.csv',index = True)\n",
    "\n"
   ]
  }
 ],
 "metadata": {
  "kernelspec": {
   "display_name": "Python 3",
   "language": "python",
   "name": "python3"
  },
  "language_info": {
   "codemirror_mode": {
    "name": "ipython",
    "version": 3
   },
   "file_extension": ".py",
   "mimetype": "text/x-python",
   "name": "python",
   "nbconvert_exporter": "python",
   "pygments_lexer": "ipython3",
   "version": "3.8.5"
  }
 },
 "nbformat": 4,
 "nbformat_minor": 4
}
